{
  "nbformat": 4,
  "nbformat_minor": 0,
  "metadata": {
    "colab": {
      "provenance": [],
      "authorship_tag": "ABX9TyMFQ3mFzWyhZKjVcniw/4Jv",
      "include_colab_link": true
    },
    "kernelspec": {
      "name": "python3",
      "display_name": "Python 3"
    },
    "language_info": {
      "name": "python"
    }
  },
  "cells": [
    {
      "cell_type": "markdown",
      "metadata": {
        "id": "view-in-github",
        "colab_type": "text"
      },
      "source": [
        "<a href=\"https://colab.research.google.com/github/forumb94/energypricecode/blob/main/maincode.ipynb\" target=\"_parent\"><img src=\"https://colab.research.google.com/assets/colab-badge.svg\" alt=\"Open In Colab\"/></a>"
      ]
    },
    {
      "cell_type": "code",
      "execution_count": null,
      "metadata": {
        "id": "tYfAVGtsAEdC"
      },
      "outputs": [],
      "source": [
        "import pandas as pd\n",
        "import matplotlib.pyplot as plt"
      ]
    },
    {
      "cell_type": "markdown",
      "source": [],
      "metadata": {
        "id": "E7jYxZUNCoC4"
      }
    },
    {
      "cell_type": "code",
      "source": [
        "# Define file path\n",
        "file_path = r\"C:\\Users\\Forum\\OneDrive - Harrisburg University\\HU Analytics\\699\\energyprice\\energyprice\\final_merged_data.csv\"\n",
        "\n",
        "# Read the dataset\n",
        "df = pd.read_csv(file_path)\n",
        "\n",
        "# Convert 'Time' column to datetime format\n",
        "df['Time'] = pd.to_datetime(df['Time'], format='%H:%M', errors='coerce')\n",
        "\n",
        "# Fill missing values for numeric columns using forward fill, then backward fill as backup\n",
        "numeric_cols = df.select_dtypes(include=[\"number\"]).columns\n",
        "df[numeric_cols] = df[numeric_cols].ffill().bfill()\n",
        "\n",
        "# Drop unnecessary columns\n",
        "df.drop(columns=['Local Date', 'Hour Number'], inplace=True, errors='ignore')\n",
        "\n",
        "# Display dataset info\n",
        "print(df.info())\n",
        "\n",
        "# Display first few rows\n",
        "print(df.head())\n",
        "\n",
        "# Generate summary statistics\n",
        "summary_stats = df.describe().T\n",
        "missing_values = df.isnull().sum()\n",
        "unique_counts = df.nunique()\n",
        "\n",
        "# Display key statistics\n",
        "print(\"\\nSummary Statistics:\")\n",
        "print(summary_stats)\n",
        "\n",
        "print(\"\\nMissing Values Per Column:\")\n",
        "print(missing_values[missing_values > 0])\n",
        "\n",
        "print(\"\\nUnique Value Counts for Categorical Columns:\")\n",
        "print(unique_counts)\n"
      ],
      "metadata": {
        "id": "4FKuFSe4Comb"
      },
      "execution_count": null,
      "outputs": []
    }
  ]
}